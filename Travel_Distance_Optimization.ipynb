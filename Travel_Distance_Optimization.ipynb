{
 "cells": [
  {
   "cell_type": "markdown",
   "id": "a8773f4c",
   "metadata": {},
   "source": [
    "# Minimizing the Travel Distance of Pharmacy Students to Hospitals\n"
   ]
  },
  {
   "cell_type": "markdown",
   "id": "06b1dd6d",
   "metadata": {},
   "source": [
    "## Introduction\n",
    "   ### Each semester [TSU College of Pharmacy](http://www.tsu.edu/academics/colleges-and-schools/college-of-pharmacy-and-health-sciences/) sends graduate pharmacy students to Houston hospitals as a part of their internship program. The pharmacy program on average assigns more than three hundred students to different available locations across Houston. Although the program administration spends a long time to find the right location for each student, sometimes many students are asisgned to the locations far from their home.\n",
    " ### The ojective of this notebook is to offer a solution for minimization of the total distance that students travel to reach to the hospital while avoiding long commutes. To solve the problem, deap, a python library that include a genetic algorithm code, is used.\n",
    " ### The notebook workflow is as follows:\n",
    " * Import required libraries\n",
    " * Read csv files\n",
    " * Data wrangling\n",
    " * Create deap model\n",
    " * Create an objective function\n",
    " * Assign the objective function to the model\n",
    " * Run the model\n",
    " \n",
    "### The full procedure could be found below."
   ]
  },
  {
   "cell_type": "code",
   "execution_count": null,
   "id": "5ecaafa7",
   "metadata": {},
   "outputs": [],
   "source": [
    "### Uncomment any missing library\n",
    "\n",
    "#! pip install --user numpy\n",
    "#! pip install --user pandas\n",
    "#! pip install --user deap"
   ]
  },
  {
   "cell_type": "code",
   "execution_count": null,
   "id": "a3a75a96",
   "metadata": {},
   "outputs": [],
   "source": [
    "# Import required libraries\n",
    "import pandas as pd\n",
    "import numpy as np\n",
    "from math import radians, cos, sin, asin, sqrt\n",
    "import random\n",
    "from deap import algorithms, base, creator, tools"
   ]
  },
  {
   "cell_type": "code",
   "execution_count": null,
   "id": "8fdde7c1",
   "metadata": {},
   "outputs": [],
   "source": [
    "# Read a csv file containing lat and lon of city of Houston zip codes \n",
    "df_ZipCodeCoord = pd.read_csv('City_of_Houston_Zip_Codes.csv',index_col=0)\n",
    "df_ZipCodeCoord.head"
   ]
  },
  {
   "cell_type": "code",
   "execution_count": null,
   "id": "dbad06ab",
   "metadata": {},
   "outputs": [],
   "source": [
    "# Change the index to zip code\n",
    "df_ZipCodeCoord = df_ZipCodeCoord.set_index('Zip_Code')\n",
    "df_ZipCodeCoord"
   ]
  },
  {
   "cell_type": "code",
   "execution_count": null,
   "id": "61b31ebf",
   "metadata": {},
   "outputs": [],
   "source": [
    "# Create a dictionary where Dict['Latitude'][Zip_code] returns the Lat of zip code\n",
    "df_ZipCodeCoord_dict = df_ZipCodeCoord.to_dict()\n",
    "df_ZipCodeCoord_dict"
   ]
  },
  {
   "cell_type": "code",
   "execution_count": null,
   "id": "70dddc85",
   "metadata": {},
   "outputs": [],
   "source": [
    "# Read csv file containing the zip code of the students\n",
    "df_students = pd.read_csv('Students_Zip_Code.csv',index_col=0)\n",
    "df_students.head"
   ]
  },
  {
   "cell_type": "code",
   "execution_count": null,
   "id": "a7c785d6",
   "metadata": {},
   "outputs": [],
   "source": [
    "# Read csv file containing the zip code of the hospitals and their capacity\n",
    "df_Hospitals = pd.read_csv('Hospitals_Zip_Code.csv',index_col=0)\n",
    "df_Hospitals.head"
   ]
  },
  {
   "cell_type": "code",
   "execution_count": null,
   "id": "459a8adf",
   "metadata": {},
   "outputs": [],
   "source": [
    "# Create a dataframe that contains the zip code of every position\n",
    "list_zip_hosp = []\n",
    "for index, row in df_Hospitals.iterrows():\n",
    "    for cap in range(row['Capacity']):\n",
    "        list_zip_hosp.append(row['Hospital_Zip_Code'])\n",
    "\n",
    "df_Hospitals_extended = pd.DataFrame(list_zip_hosp, columns =['Hosp_Zip_codes'])"
   ]
  },
  {
   "cell_type": "code",
   "execution_count": null,
   "id": "2e2bae05",
   "metadata": {},
   "outputs": [],
   "source": [
    "# Creates a new class named \"FitnessMin\" inheriting from \"base.Fitness\" with attrebute \"weights=(-1.0,)\"\n",
    "# The fitness is a measure of quality of a solution.\n",
    "creator.create(\"FitnessMin\", base.Fitness, weights=(-1.0,)) # -1 -> minimum problem\n",
    "creator.create(\"Individual\", list, fitness=creator.FitnessMin)"
   ]
  },
  {
   "cell_type": "code",
   "execution_count": null,
   "id": "771aa74d",
   "metadata": {},
   "outputs": [],
   "source": [
    "# Create a toolbox\n",
    "toolbox = base.Toolbox()"
   ]
  },
  {
   "cell_type": "code",
   "execution_count": null,
   "id": "0c14a414",
   "metadata": {},
   "outputs": [],
   "source": [
    "# Attribute generator \n",
    "toolbox.register(\"index\", np.random.choice, len(df_students), len(df_students), replace=False) # choose all spots"
   ]
  },
  {
   "cell_type": "code",
   "execution_count": null,
   "id": "b42ef734",
   "metadata": {},
   "outputs": [],
   "source": [
    "# Structure initializers\n",
    "toolbox.register(\"individual\", tools.initIterate, creator.Individual, toolbox.index)\n",
    "toolbox.register(\"population\", tools.initRepeat, list, toolbox.individual)"
   ]
  },
  {
   "cell_type": "code",
   "execution_count": null,
   "id": "3a02bcf5",
   "metadata": {},
   "outputs": [],
   "source": [
    "# Sample individual \n",
    "ind = toolbox.individual()\n",
    "ind"
   ]
  },
  {
   "cell_type": "code",
   "execution_count": null,
   "id": "15185eef",
   "metadata": {},
   "outputs": [],
   "source": [
    "## Function for get a total distance of student travel\n",
    "def total_distance(ind):\n",
    "    \n",
    "    df_students_temp = df_students.iloc[ind]\n",
    "    \n",
    "    dist_sum = sum(distance(df_students_temp.iloc[i]['Students_Zip_Code'], df_Hospitals_extended.iloc[i]['Hosp_Zip_codes']) for i in range(df_students_temp.shape[0]))\n",
    "    \n",
    "    return dist_sum"
   ]
  },
  {
   "cell_type": "code",
   "execution_count": null,
   "id": "43762df0",
   "metadata": {},
   "outputs": [],
   "source": [
    "def distance(zip1, zip2):\n",
    "    # import lat and lon of zip codes, both students and hospitals\n",
    "    lng1, lat1, lng2, lat2 = radians(df_ZipCodeCoord_dict['Longitude'][zip1]), radians(df_ZipCodeCoord_dict['Latitude'][zip1]), radians(df_ZipCodeCoord_dict['Longitude'][zip2]), radians(df_ZipCodeCoord_dict['Latitude'][zip2])\n",
    "    \n",
    "    # FAA approved globe radius in km (radius of the earth)\n",
    "    RADIUS = 6371 \n",
    "    \n",
    "    dlng = lng2-lng1\n",
    "    dlat = lat2-lat1\n",
    "    \n",
    "    a = sin(dlat/2)**2 + cos(lat1) * cos(lat2) * sin(dlng/2)**2\n",
    "    c = 2 * asin(sqrt(a)) \n",
    "    \n",
    "    dist = RADIUS * c\n",
    "    \n",
    "    # Multiply by distance to penalize long commutes\n",
    "    return dist * dist"
   ]
  },
  {
   "cell_type": "code",
   "execution_count": null,
   "id": "f1fa1ac0",
   "metadata": {},
   "outputs": [],
   "source": [
    "def eval_func(individual):\n",
    "    \n",
    "    # 1 total distance -> minimun\n",
    "    t_dist = total_distance(individual)\n",
    "    \n",
    "    # 2 penalty\n",
    "    penalty = len(individual) - len(set(individual))\n",
    "    t_dist += penalty*1000000\n",
    "    \n",
    "    return t_dist,"
   ]
  },
  {
   "cell_type": "code",
   "execution_count": null,
   "id": "4c441cde",
   "metadata": {},
   "outputs": [],
   "source": [
    "# Test eval function\n",
    "eval_func(ind)"
   ]
  },
  {
   "cell_type": "code",
   "execution_count": null,
   "id": "e79e5c7b",
   "metadata": {},
   "outputs": [],
   "source": [
    "# Add eval funcion to toolbox\n",
    "toolbox.register(\"evaluate\", eval_func)"
   ]
  },
  {
   "cell_type": "code",
   "execution_count": null,
   "id": "2edf15bb",
   "metadata": {},
   "outputs": [],
   "source": [
    "# Create the optimization requiremenst\n",
    "toolbox.register(\"select\", tools.selNSGA2)\n",
    "toolbox.register(\"mate\", tools.cxTwoPoint)\n",
    "# tools.mutShuffleIndexes : Shuffle the attributes of the input individual and return the mutant.\n",
    "toolbox.register(\"mutate\", tools.mutShuffleIndexes, indpb=0.8)\n",
    "hof = tools.HallOfFame(1)"
   ]
  },
  {
   "cell_type": "code",
   "execution_count": null,
   "id": "407e3320",
   "metadata": {},
   "outputs": [],
   "source": [
    "# Optimization parameters\n",
    "POP_SIZE = 200\n",
    "MAX_GEN = 100\n",
    "MUT_PROB = 0.2\n",
    "CX_PROB = 0.8"
   ]
  },
  {
   "cell_type": "code",
   "execution_count": null,
   "id": "2dfa777d",
   "metadata": {},
   "outputs": [],
   "source": [
    "# Example of generated population\n",
    "pop = toolbox.population(n=POP_SIZE)\n",
    "pop"
   ]
  },
  {
   "cell_type": "code",
   "execution_count": null,
   "id": "edf0e591",
   "metadata": {},
   "outputs": [],
   "source": [
    "# Add statistical information to the output\n",
    "stats = tools.Statistics(lambda ind: ind.fitness.values)\n",
    "stats.register(\"avg\", np.mean, axis=0) \n",
    "stats.register(\"min\", np.min, axis=0)\n",
    "stats.register(\"max\", np.max, axis=0)"
   ]
  },
  {
   "cell_type": "code",
   "execution_count": null,
   "id": "e36ac284",
   "metadata": {},
   "outputs": [],
   "source": [
    "%%time \n",
    "# Run the case\n",
    "result, log = algorithms.eaMuPlusLambda(pop, \n",
    "                                     toolbox, \n",
    "                                     mu=POP_SIZE, # The number of individuals to select for the next generation.\n",
    "                                     lambda_= POP_SIZE, # The number of children to produce at each generation.\n",
    "                                     cxpb= CX_PROB,\n",
    "                                     mutpb= MUT_PROB, \n",
    "                                     halloffame=hof,\n",
    "                                     stats= stats, \n",
    "                                     ngen= MAX_GEN,\n",
    "                                     verbose= True)"
   ]
  },
  {
   "cell_type": "code",
   "execution_count": null,
   "id": "00f3f191",
   "metadata": {},
   "outputs": [],
   "source": [
    "result"
   ]
  },
  {
   "cell_type": "code",
   "execution_count": null,
   "id": "dc033060",
   "metadata": {},
   "outputs": [],
   "source": [
    "hof"
   ]
  },
  {
   "cell_type": "code",
   "execution_count": null,
   "id": "3bef4710",
   "metadata": {},
   "outputs": [],
   "source": []
  }
 ],
 "metadata": {
  "kernelspec": {
   "display_name": "Python 3 (ipykernel)",
   "language": "python",
   "name": "python3"
  },
  "language_info": {
   "codemirror_mode": {
    "name": "ipython",
    "version": 3
   },
   "file_extension": ".py",
   "mimetype": "text/x-python",
   "name": "python",
   "nbconvert_exporter": "python",
   "pygments_lexer": "ipython3",
   "version": "3.9.6"
  }
 },
 "nbformat": 4,
 "nbformat_minor": 5
}
